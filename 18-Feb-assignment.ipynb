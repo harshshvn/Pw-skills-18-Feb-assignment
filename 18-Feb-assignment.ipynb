{
 "cells": [
  {
   "cell_type": "markdown",
   "id": "7e181c23-58e6-44e0-8161-06fb9ce77dcf",
   "metadata": {},
   "source": [
    "Q1"
   ]
  },
  {
   "cell_type": "markdown",
   "id": "2ec7d788-ecd7-43ea-b108-eae8b45c4886",
   "metadata": {},
   "source": [
    "API stands for application programming interface, which is a set of definitions and protocols for building and integrating application software.APIs let your product or service communicate with other products and services without having to know how they’re implemented.\n",
    "\n",
    "Weather data is a popular API example that we come across regularly. Rich weather snippets appear ubiquitous, appearing on all platforms such as Google Search, Apple's Weather app"
   ]
  },
  {
   "cell_type": "markdown",
   "id": "9043d45f-3940-4422-b6be-5fd874093a80",
   "metadata": {},
   "source": [
    "Q2"
   ]
  },
  {
   "cell_type": "markdown",
   "id": "c9521d53-d809-4a5f-a043-d011ca69fddc",
   "metadata": {},
   "source": [
    "Advantages of using api-\n",
    "\n",
    "\n",
    "Efficiency: When you have content that is automatically published and made available on different channels simultaneously, APIs allow for more efficient data distribution.\n",
    "\n",
    "Adaptability: One of the greatest benefits of APIs is the ability it has to adapt to changes through data migration and flexibility of services\n",
    "\n",
    "Disadvantages of using api-\n",
    "\n",
    "As a single point of entry, an API is a gateway and can become a hacker's primary target. Once the API is compromised, all other applications and systems become vulnerable.\n",
    "\n"
   ]
  },
  {
   "cell_type": "markdown",
   "id": "b7a9f702-8a79-4858-a534-ce96b99ae146",
   "metadata": {},
   "source": [
    "Q3"
   ]
  },
  {
   "cell_type": "markdown",
   "id": "d8bd7b89-fcb5-4418-9753-b2044602dcdd",
   "metadata": {},
   "source": [
    " Web API is an extensible framework for building HTTP based services that can be accessed in different applications on different platforms such as web, windows, mobile etc.It is like a webservice or WCF service but the exception is that it only supports HTTP protocol.Web API supports different formats of response data. Built-in support for JSON, XML, BSON format.\n",
    " \n",
    "Difference between API and Web API are-\n",
    " \n",
    "API is an interface that exposes an application's data to outside software, whereas web applications are one type of API with stricter requirements. These requirements include network communication, SOAP as the primary protocol, and less accessibility for the public. \n",
    " \n"
   ]
  },
  {
   "cell_type": "markdown",
   "id": "375bb08c-af66-4247-bb94-9faa6a2943ee",
   "metadata": {},
   "source": [
    "Q4\n"
   ]
  },
  {
   "cell_type": "markdown",
   "id": "6ea147d3-26ce-49da-85c0-15a6da26b6ec",
   "metadata": {},
   "source": [
    "REST is a set of architectural principles attuned to the needs of lightweight web services and mobile applications. Because it's a set of guidelines, it leaves the implementation of these recommendations to developers.\n",
    "When a request for data is sent to a REST API, it’s usually done through hypertext transfer protocol (commonly referred to as HTTP). Once a request is received, APIs designed for REST (called RESTful APIs or RESTful web services) can return messages in a variety of formats: HTML, XML, plain text, and JSON.\n",
    "\n",
    "SOAP is a standard protocol that was first designed so that applications built with different languages and on different platforms could communicate. Because it is a protocol, it imposes built-in rules that increase its complexity and overhead, which can lead to longer page load times. However, these standards also offer built-in compliances that can make it preferable for enterprise scenarios. The built-in compliance standards include security, atomicity, consistency, isolation, and durability (ACID), which is a set of properties for ensuring reliable database transactions."
   ]
  },
  {
   "cell_type": "markdown",
   "id": "cb0e53b5-06c9-47f7-bbe3-0673244cb9f0",
   "metadata": {},
   "source": [
    "Q5\n"
   ]
  },
  {
   "cell_type": "markdown",
   "id": "e0d44ca3-3b7c-4d5f-b516-c23b9b29697a",
   "metadata": {},
   "source": []
  }
 ],
 "metadata": {
  "kernelspec": {
   "display_name": "Python 3 (ipykernel)",
   "language": "python",
   "name": "python3"
  },
  "language_info": {
   "codemirror_mode": {
    "name": "ipython",
    "version": 3
   },
   "file_extension": ".py",
   "mimetype": "text/x-python",
   "name": "python",
   "nbconvert_exporter": "python",
   "pygments_lexer": "ipython3",
   "version": "3.10.8"
  }
 },
 "nbformat": 4,
 "nbformat_minor": 5
}
